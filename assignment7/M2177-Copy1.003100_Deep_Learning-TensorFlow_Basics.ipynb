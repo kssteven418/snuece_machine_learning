{
 "cells": [
  {
   "cell_type": "markdown",
   "metadata": {},
   "source": [
    "# M2177.003100 Deep Learning <br> TensorFlow Basics"
   ]
  },
  {
   "cell_type": "markdown",
   "metadata": {},
   "source": [
    "Copyright (C) Data Science & Artificial Intelligence Laboratory, Seoul National University. This material is for educational uses only. Some contents are based on the material provided by other paper/book authors and may be copyrighted by them. Written by Seonwoo Min, September 2017\n",
    "\n",
    "### Some helpful tutorials and references for TensorFlow Basics:\n",
    "- [1] TensorFlow official tutorials. [[link]](https://www.tensorflow.org/get_started/get_started)\n",
    "- [1] TensorFlow official tutorials: Graphs and Sessions. [[link]](https://www.tensorflow.org/programmers_guide/graphs)\n",
    "- [2] TensorFlow official tutorials: Saving and Restore. [[link]](https://www.tensorflow.org/programmers_guide/saved_model)\n",
    "- [3] TensorFlow official tutorials: Exporting and Importing a MetaGraph. [[link]](https://www.tensorflow.org/api_guides/python/meta_graph)\n",
    "- [4] Danijar Hafner. \"Structing Your TensorFlow Models\" [[link]](https://danijar.com/structuring-your-tensorflow-models/)"
   ]
  },
  {
   "cell_type": "markdown",
   "metadata": {},
   "source": [
    "---\n",
    "## Load datasets (MNIST)"
   ]
  },
  {
   "cell_type": "code",
   "execution_count": 2,
   "metadata": {},
   "outputs": [],
   "source": [
    "import tensorflow as tf\n",
    "from tensorflow.examples.tutorials.mnist import input_data\n",
    "import matplotlib.pyplot as plt\n",
    "import os\n",
    "%matplotlib inline\n",
    "\n",
    "#Matplotlib configurations\n",
    "plt.rcParams['figure.figsize'] = (12.0, 6.0)\n",
    "plt.rcParams['image.interpolation'] = 'nearest'\n",
    "plt.rcParams['image.cmap'] = 'gray'\n",
    "    \n",
    "#TensorFlow configureations\n",
    "conf = tf.ConfigProto()\n",
    "conf.gpu_options.per_process_gpu_memory_fraction = 0.2\n",
    "os.environ['CUDA_VISIBLE_DEVICES'] = '0'"
   ]
  },
  {
   "cell_type": "code",
   "execution_count": 3,
   "metadata": {
    "scrolled": false
   },
   "outputs": [
    {
     "name": "stdout",
     "output_type": "stream",
     "text": [
      "Successfully downloaded train-images-idx3-ubyte.gz 9912422 bytes.\n",
      "Extracting ./DATA/train-images-idx3-ubyte.gz\n",
      "Successfully downloaded train-labels-idx1-ubyte.gz 28881 bytes.\n",
      "Extracting ./DATA/train-labels-idx1-ubyte.gz\n",
      "Successfully downloaded t10k-images-idx3-ubyte.gz 1648877 bytes.\n",
      "Extracting ./DATA/t10k-images-idx3-ubyte.gz\n",
      "Successfully downloaded t10k-labels-idx1-ubyte.gz 4542 bytes.\n",
      "Extracting ./DATA/t10k-labels-idx1-ubyte.gz\n"
     ]
    },
    {
     "data": {
      "image/png": "[encoded data removed]",
      "text/plain": [
       "<matplotlib.figure.Figure at 0x7fd69add7e48>"
      ]
     },
     "metadata": {},
     "output_type": "display_data"
    }
   ],
   "source": [
    "mnist = tf.examples.tutorials.mnist.input_data.read_data_sets(\"./DATA\")\n",
    "X_train = mnist.train.images.reshape(-1, 28, 28)\n",
    "Y_train = mnist.train.labels\n",
    "X_val = mnist.test.images.reshape(-1, 28, 28)\n",
    "Y_val = mnist.test.labels\n",
    "\n",
    "#Show MNIST data examples\n",
    "idx = 0\n",
    "for i in range(10):\n",
    "    while(1):\n",
    "        if Y_train[idx] == i:\n",
    "            break\n",
    "        else:\n",
    "            idx += 1\n",
    "\n",
    "    plt.subplot(2, 5, i+1)\n",
    "    plt.imshow(X_train[idx], cmap='gray')\n",
    "    plt.title(i)\n",
    "    plt.axis('off')"
   ]
  },
  {
   "cell_type": "markdown",
   "metadata": {},
   "source": [
    "---\n",
    "## Structuring your TensorFlow model using python class\n",
    "\n",
    "### Model Construction"
   ]
  },
  {
   "cell_type": "code",
   "execution_count": 4,
   "metadata": {},
   "outputs": [],
   "source": [
    "# Define our model as a class\n",
    "# It includes our model architecture, loss function, optimizer, and evaluation metrics\n",
    "class simple_model(object):\n",
    "    def __init__(self):\n",
    "        # Define input variables \n",
    "        self.inputs = tf.placeholder(tf.float32, [None, 28, 28])\n",
    "        self.targets = tf.placeholder(tf.int64, [None])\n",
    "        self.is_training = tf.placeholder(tf.bool)\n",
    "\n",
    "        # Define model architecture\n",
    "        with tf.variable_scope('L1'):\n",
    "            L1 = tf.contrib.layers.flatten(self.inputs)\n",
    "            L1 = tf.layers.dense(L1, 80, activation=tf.nn.relu)\n",
    "        with tf.variable_scope('L2'):\n",
    "            L2 = tf.layers.dense(L1, 40, activation=tf.nn.relu)\n",
    "        with tf.variable_scope('Output'):\n",
    "            self.outputs = tf.layers.dense(L2, 10, activation=None)\n",
    "        \n",
    "        # Define loss function and optimizer\n",
    "        self.loss = tf.reduce_mean(tf.nn.softmax_cross_entropy_with_logits(logits=self.outputs, labels=tf.one_hot(self.targets,10)), name=\"loss\")\n",
    "        self.optimizer = tf.train.GradientDescentOptimizer(0.01).minimize(self.loss)\n",
    "        \n",
    "        # Variables for evaluation\n",
    "        corr = tf.equal(self.targets, tf.argmax(self.outputs,1))\n",
    "        self.accuracy = tf.reduce_mean(tf.cast(corr, tf.float32), name='accuracy')   "
   ]
  },
  {
   "cell_type": "markdown",
   "metadata": {},
   "source": [
    "### A function for model training and evaluation"
   ]
  },
  {
   "cell_type": "code",
   "execution_count": 5,
   "metadata": {},
   "outputs": [],
   "source": [
    "# Create a function to train and evaluata a model\n",
    "# You can reuse this function throughout the assignment\n",
    "def run_model(session, model, X, Y, epochs=1, batch_size=500, is_training=False):\n",
    "    # For training the model\n",
    "    if is_training:\n",
    "        for epoch in range(epochs):\n",
    "            total_loss = 0\n",
    "            # Iterate over the entire dataset\n",
    "            for i in range(int(X.shape[0] / batch_size)):\n",
    "                _, cost_val = sess.run([model.optimizer, model.loss], \n",
    "                                       feed_dict={model.inputs: X[i*batch_size:(i+1)*batch_size],\n",
    "                                                  model.targets: Y[i*batch_size:(i+1)*batch_size],\n",
    "                                                  model.is_training: is_training})\n",
    "                total_loss += cost_val\n",
    "            print(\"Epoch: %02d \\t Average loss: %.4f\" % (epoch+1, total_loss / X.shape[0] * batch_size))\n",
    "        print(\"Training done!\")\n",
    "\n",
    "    # Evaluate loss and accuracy of the model\n",
    "    else:\n",
    "        loss, accuracy = 0.0, 0.0\n",
    "        for i in range(int(X.shape[0] / batch_size)):\n",
    "            l, a = sess.run([model.loss, model.accuracy],\n",
    "                            feed_dict={model.inputs: X[i*batch_size:(i+1)*batch_size],\n",
    "                                       model.targets: Y[i*batch_size:(i+1)*batch_size],\n",
    "                                       model.is_training: is_training})\n",
    "            loss += l\n",
    "            accuracy += a\n",
    "        return (loss / (X.shape[0] / batch_size), accuracy / (X.shape[0] / batch_size))"
   ]
  },
  {
   "cell_type": "markdown",
   "metadata": {},
   "source": [
    "### Model training"
   ]
  },
  {
   "cell_type": "code",
   "execution_count": 9,
   "metadata": {
    "scrolled": false
   },
   "outputs": [
    {
     "name": "stdout",
     "output_type": "stream",
     "text": [
      "Epoch: 01 \t Average loss: 2.0922\n",
      "Epoch: 02 \t Average loss: 1.5083\n",
      "Epoch: 03 \t Average loss: 1.0474\n",
      "Epoch: 04 \t Average loss: 0.7951\n",
      "Epoch: 05 \t Average loss: 0.6583\n",
      "Epoch: 06 \t Average loss: 0.5749\n",
      "Epoch: 07 \t Average loss: 0.5191\n",
      "Epoch: 08 \t Average loss: 0.4793\n",
      "Epoch: 09 \t Average loss: 0.4495\n",
      "Epoch: 10 \t Average loss: 0.4264\n",
      "Epoch: 11 \t Average loss: 0.4077\n",
      "Epoch: 12 \t Average loss: 0.3924\n",
      "Epoch: 13 \t Average loss: 0.3795\n",
      "Epoch: 14 \t Average loss: 0.3684\n",
      "Epoch: 15 \t Average loss: 0.3587\n",
      "Epoch: 16 \t Average loss: 0.3500\n",
      "Epoch: 17 \t Average loss: 0.3423\n",
      "Epoch: 18 \t Average loss: 0.3353\n",
      "Epoch: 19 \t Average loss: 0.3290\n",
      "Epoch: 20 \t Average loss: 0.3231\n",
      "Training done!\n",
      "(Loss, Accuracy) on Training Dataset (0.3194, 0.91)\n",
      "(Loss, Accuracy) on Validataion Dataset (0.3115, 0.91)\n"
     ]
    }
   ],
   "source": [
    "# Clear old variables\n",
    "tf.reset_default_graph()    \n",
    "\n",
    "# Declare simple model\n",
    "model = simple_model()    \n",
    "    \n",
    "# Now, train and evaluate the model\n",
    "with tf.Session(config=conf) as sess:   \n",
    "    sess.run(tf.global_variables_initializer())\n",
    "    run_model(sess, model, X_train, Y_train, epochs=20, is_training=True)\n",
    "    print(\"(Loss, Accuracy) on Training Dataset (%.4f, %.2f)\" % run_model(sess, model, X_train, Y_train))\n",
    "    print(\"(Loss, Accuracy) on Validataion Dataset (%.4f, %.2f)\" % run_model(sess, model, X_val, Y_val))\n",
    "    \n",
    "    #Save your final model\n",
    "    saver = tf.train.Saver()\n",
    "    saver.save(sess, \"./model_checkpoints/model_final\")"
   ]
  },
  {
   "cell_type": "markdown",
   "metadata": {},
   "source": [
    "---\n",
    "## TensorFlow model save & restore\n",
    "\n",
    "The TensorFlow save method saves three kinds of files-.meta, .data, .index- because it stores the **graph structure** separately from the **variable values**. The *.meta* file describes the saved graph structure, so you need to import it before restoring the checkpoint (otherwise it doesn't know what variables the saved checkpoint values correspond to). *.data* stores the values of each variable in the graph, and *.index* identifies the checkpiont. Hence all the three kinds of files are required when loading your model.\n",
    "\n",
    "### Model load"
   ]
  },
  {
   "cell_type": "code",
   "execution_count": 16,
   "metadata": {
    "scrolled": false
   },
   "outputs": [
    {
     "name": "stdout",
     "output_type": "stream",
     "text": [
      "INFO:tensorflow:Restoring parameters from ./model_checkpoints/model_final\n",
      "(Loss, Accuracy) on Test Dataset (1.6962, 0.57)\n"
     ]
    }
   ],
   "source": [
    "# Clear old variables\n",
    "tf.reset_default_graph()  \n",
    "\n",
    "with tf.Session(config=conf) as sess:\n",
    "    #Load your final model\n",
    "    model = simple_model()  \n",
    "    saver = tf.train.Saver()\n",
    "    saver.restore(sess, \"./model_checkpoints/model_final\")\n",
    "    print(\"(Loss, Accuracy) on Test Dataset (%.4f, %.2f)\" % run_model(sess, model, X_val, Y_val))"
   ]
  },
  {
   "cell_type": "markdown",
   "metadata": {},
   "source": [
    "### Model load with a var_list"
   ]
  },
  {
   "cell_type": "code",
   "execution_count": 17,
   "metadata": {
    "scrolled": false
   },
   "outputs": [
    {
     "name": "stdout",
     "output_type": "stream",
     "text": [
      "['L1/dense/kernel', 'L1/dense/bias', 'L2/dense/kernel', 'L2/dense/bias', 'Output/dense/kernel', 'Output/dense/bias']\n",
      "['L1/dense/kernel', 'L1/dense/bias', 'L2/dense/kernel', 'L2/dense/bias', 'Output/dense/kernel', 'Output/dense/bias', 'Additionl_Variable']\n",
      "INFO:tensorflow:Restoring parameters from ./model_checkpoints/model_final\n",
      "(Loss, Accuracy) on Test Dataset (1.6962, 0.57)\n"
     ]
    }
   ],
   "source": [
    "# Clear old variables\n",
    "tf.reset_default_graph()  \n",
    "\n",
    "with tf.Session(config=conf) as sess:\n",
    "    #Variables in your model\n",
    "    model = simple_model()  \n",
    "    var_list = [v for v in tf.trainable_variables()]\n",
    "    var_list_names = [v.op.name for v in tf.trainable_variables()]\n",
    "    print(var_list_names)\n",
    "    \n",
    "    #Additional variable\n",
    "    tf.get_variable(\"Additionl_Variable\", 10)\n",
    "    var_list_new = [v.op.name for v in tf.trainable_variables()]\n",
    "    print(var_list_new)\n",
    "    \n",
    "    #Restore with a var_list\n",
    "    saver = tf.train.Saver(var_list = var_list)\n",
    "    saver.restore(sess, \"./model_checkpoints/model_final\")\n",
    "    \n",
    "    print(\"(Loss, Accuracy) on Test Dataset (%.4f, %.2f)\" % run_model(sess, model, X_val, Y_val))"
   ]
  },
  {
   "cell_type": "markdown",
   "metadata": {},
   "source": [
    "### Model load with a MetaGraph"
   ]
  },
  {
   "cell_type": "code",
   "execution_count": 18,
   "metadata": {
    "scrolled": false
   },
   "outputs": [
    {
     "name": "stdout",
     "output_type": "stream",
     "text": [
      "INFO:tensorflow:Restoring parameters from ./model_checkpoints/model_final\n",
      "['save/RestoreV2/shape_and_slices:0', 'save/RestoreV2/tensor_names:0', 'save/SaveV2/shape_and_slices:0', 'save/SaveV2/tensor_names:0', 'save/Const:0', 'save/RestoreV2:0', 'Const_1:0', 'ArgMax/dimension:0', 'GradientDescent/learning_rate:0', 'gradients/softmax_cross_entropy_with_logits_sg_grad/ExpandDims_1/dim:0', 'gradients/softmax_cross_entropy_with_logits_sg_grad/ExpandDims/dim:0', 'gradients/loss_grad/Maximum/y:0', 'gradients/loss_grad/Const_1:0', 'gradients/loss_grad/Const:0', 'gradients/loss_grad/Shape_2:0', 'gradients/loss_grad/Prod_1:0', 'gradients/loss_grad/Maximum:0', 'gradients/loss_grad/Reshape/shape:0', 'gradients/grad_ys_0:0', 'gradients/Shape:0', 'gradients/Fill:0', 'gradients/loss_grad/Reshape:0', 'Const:0', 'softmax_cross_entropy_with_logits_sg/Slice_2/begin:0', 'softmax_cross_entropy_with_logits_sg/Sub_2/y:0', 'softmax_cross_entropy_with_logits_sg/concat_1/axis:0', 'softmax_cross_entropy_with_logits_sg/concat_1/values_0:0', 'softmax_cross_entropy_with_logits_sg/Slice_1/size:0', 'softmax_cross_entropy_with_logits_sg/Sub_1/y:0', 'softmax_cross_entropy_with_logits_sg/Rank_2:0', 'softmax_cross_entropy_with_logits_sg/Sub_1:0', 'softmax_cross_entropy_with_logits_sg/Slice_1/begin:0', 'softmax_cross_entropy_with_logits_sg/concat/axis:0', 'softmax_cross_entropy_with_logits_sg/concat/values_0:0', 'softmax_cross_entropy_with_logits_sg/Slice/size:0', 'softmax_cross_entropy_with_logits_sg/Sub/y:0', 'softmax_cross_entropy_with_logits_sg/Rank_1:0', 'softmax_cross_entropy_with_logits_sg/Sub:0', 'softmax_cross_entropy_with_logits_sg/Slice/begin:0', 'softmax_cross_entropy_with_logits_sg/Rank:0', 'softmax_cross_entropy_with_logits_sg/Sub_2:0', 'softmax_cross_entropy_with_logits_sg/Slice_2/size:0', 'one_hot/depth:0', 'one_hot/off_value:0', 'one_hot/on_value:0', 'Output/dense/bias:0', 'save/Assign_4:0', 'Output/dense/bias/read:0', 'Output/dense/bias/Initializer/zeros:0', 'Output/dense/bias/Assign:0', 'Output/dense/kernel:0', 'save/Assign_5:0', 'Output/dense/kernel/read:0', 'Output/dense/kernel/Initializer/random_uniform/max:0', 'Output/dense/kernel/Initializer/random_uniform/min:0', 'Output/dense/kernel/Initializer/random_uniform/sub:0', 'Output/dense/kernel/Initializer/random_uniform/shape:0', 'Output/dense/kernel/Initializer/random_uniform/RandomUniform:0', 'Output/dense/kernel/Initializer/random_uniform/mul:0', 'Output/dense/kernel/Initializer/random_uniform:0', 'Output/dense/kernel/Assign:0', 'L2/dense/bias:0', 'save/Assign_2:0', 'L2/dense/bias/read:0', 'L2/dense/bias/Initializer/zeros:0', 'L2/dense/bias/Assign:0', 'L2/dense/kernel:0', 'save/Assign_3:0', 'L2/dense/kernel/read:0', 'L2/dense/kernel/Initializer/random_uniform/max:0', 'L2/dense/kernel/Initializer/random_uniform/min:0', 'L2/dense/kernel/Initializer/random_uniform/sub:0', 'L2/dense/kernel/Initializer/random_uniform/shape:0', 'L2/dense/kernel/Initializer/random_uniform/RandomUniform:0', 'L2/dense/kernel/Initializer/random_uniform/mul:0', 'L2/dense/kernel/Initializer/random_uniform:0', 'L2/dense/kernel/Assign:0', 'L1/dense/bias:0', 'save/Assign:0', 'L1/dense/bias/read:0', 'L1/dense/bias/Initializer/zeros:0', 'L1/dense/bias/Assign:0', 'L1/dense/kernel:0', 'save/Assign_1:0', 'save/restore_all:0', 'save/SaveV2:0', 'save/control_dependency:0', 'L1/dense/kernel/read:0', 'L1/dense/kernel/Initializer/random_uniform/max:0', 'L1/dense/kernel/Initializer/random_uniform/min:0', 'L1/dense/kernel/Initializer/random_uniform/sub:0', 'L1/dense/kernel/Initializer/random_uniform/shape:0', 'L1/dense/kernel/Initializer/random_uniform/RandomUniform:0', 'L1/dense/kernel/Initializer/random_uniform/mul:0', 'L1/dense/kernel/Initializer/random_uniform:0', 'L1/dense/kernel/Assign:0', 'init:0', 'L1/Flatten/flatten/Reshape/shape/1:0', 'L1/Flatten/flatten/strided_slice/stack_2:0', 'L1/Flatten/flatten/strided_slice/stack_1:0', 'L1/Flatten/flatten/strided_slice/stack:0', 'Placeholder_2:0', 'Placeholder_1:0', 'one_hot:0', 'softmax_cross_entropy_with_logits_sg/labels_stop_gradient:0', 'softmax_cross_entropy_with_logits_sg/Shape_2:0', 'softmax_cross_entropy_with_logits_sg/Slice_1:0', 'softmax_cross_entropy_with_logits_sg/concat_1:0', 'softmax_cross_entropy_with_logits_sg/Reshape_1:0', 'Placeholder:0', 'L1/Flatten/flatten/Shape:0', 'L1/Flatten/flatten/strided_slice:0', 'L1/Flatten/flatten/Reshape/shape:0', 'L1/Flatten/flatten/Reshape:0', 'L1/dense/MatMul:0', 'L1/dense/BiasAdd:0', 'L1/dense/Relu:0', 'L2/dense/MatMul:0', 'L2/dense/BiasAdd:0', 'L2/dense/Relu:0', 'Output/dense/MatMul:0', 'Output/dense/BiasAdd:0', 'ArgMax:0', 'Equal:0', 'Cast:0', 'accuracy:0', 'gradients/softmax_cross_entropy_with_logits_sg/Reshape_grad/Shape:0', 'softmax_cross_entropy_with_logits_sg/Shape_1:0', 'softmax_cross_entropy_with_logits_sg/Slice:0', 'softmax_cross_entropy_with_logits_sg/concat:0', 'softmax_cross_entropy_with_logits_sg/Reshape:0', 'gradients/softmax_cross_entropy_with_logits_sg_grad/LogSoftmax:0', 'gradients/softmax_cross_entropy_with_logits_sg_grad/Neg:0', 'softmax_cross_entropy_with_logits_sg:0', 'gradients/zeros_like:0', 'gradients/softmax_cross_entropy_with_logits_sg/Reshape_2_grad/Shape:0', 'softmax_cross_entropy_with_logits_sg/Shape:0', 'softmax_cross_entropy_with_logits_sg/Slice_2:0', 'softmax_cross_entropy_with_logits_sg/Reshape_2:0', 'gradients/loss_grad/Shape_1:0', 'gradients/loss_grad/Prod:0', 'gradients/loss_grad/floordiv:0', 'gradients/loss_grad/Cast:0', 'gradients/loss_grad/Shape:0', 'gradients/loss_grad/Tile:0', 'gradients/loss_grad/truediv:0', 'gradients/softmax_cross_entropy_with_logits_sg/Reshape_2_grad/Reshape:0', 'gradients/softmax_cross_entropy_with_logits_sg_grad/ExpandDims_1:0', 'gradients/softmax_cross_entropy_with_logits_sg_grad/mul_1:0', 'gradients/softmax_cross_entropy_with_logits_sg_grad/ExpandDims:0', 'gradients/softmax_cross_entropy_with_logits_sg_grad/mul:0', 'gradients/softmax_cross_entropy_with_logits_sg_grad/tuple/group_deps:0', 'gradients/softmax_cross_entropy_with_logits_sg_grad/tuple/control_dependency_1:0', 'gradients/softmax_cross_entropy_with_logits_sg_grad/tuple/control_dependency:0', 'gradients/softmax_cross_entropy_with_logits_sg/Reshape_grad/Reshape:0', 'gradients/Output/dense/BiasAdd_grad/BiasAddGrad:0', 'gradients/Output/dense/BiasAdd_grad/tuple/group_deps:0', 'gradients/Output/dense/BiasAdd_grad/tuple/control_dependency_1:0', 'GradientDescent/update_Output/dense/bias/ApplyGradientDescent:0', 'gradients/Output/dense/BiasAdd_grad/tuple/control_dependency:0', 'gradients/Output/dense/MatMul_grad/MatMul_1:0', 'gradients/Output/dense/MatMul_grad/MatMul:0', 'gradients/Output/dense/MatMul_grad/tuple/group_deps:0', 'gradients/Output/dense/MatMul_grad/tuple/control_dependency_1:0', 'GradientDescent/update_Output/dense/kernel/ApplyGradientDescent:0', 'gradients/Output/dense/MatMul_grad/tuple/control_dependency:0', 'gradients/L2/dense/Relu_grad/ReluGrad:0', 'gradients/L2/dense/BiasAdd_grad/BiasAddGrad:0', 'gradients/L2/dense/BiasAdd_grad/tuple/group_deps:0', 'gradients/L2/dense/BiasAdd_grad/tuple/control_dependency_1:0', 'GradientDescent/update_L2/dense/bias/ApplyGradientDescent:0', 'gradients/L2/dense/BiasAdd_grad/tuple/control_dependency:0', 'gradients/L2/dense/MatMul_grad/MatMul_1:0', 'gradients/L2/dense/MatMul_grad/MatMul:0', 'gradients/L2/dense/MatMul_grad/tuple/group_deps:0', 'gradients/L2/dense/MatMul_grad/tuple/control_dependency_1:0', 'GradientDescent/update_L2/dense/kernel/ApplyGradientDescent:0', 'gradients/L2/dense/MatMul_grad/tuple/control_dependency:0', 'gradients/L1/dense/Relu_grad/ReluGrad:0', 'gradients/L1/dense/BiasAdd_grad/BiasAddGrad:0', 'gradients/L1/dense/BiasAdd_grad/tuple/group_deps:0', 'gradients/L1/dense/BiasAdd_grad/tuple/control_dependency_1:0', 'GradientDescent/update_L1/dense/bias/ApplyGradientDescent:0', 'gradients/L1/dense/BiasAdd_grad/tuple/control_dependency:0', 'gradients/L1/dense/MatMul_grad/MatMul_1:0', 'gradients/L1/dense/MatMul_grad/MatMul:0', 'gradients/L1/dense/MatMul_grad/tuple/group_deps:0', 'gradients/L1/dense/MatMul_grad/tuple/control_dependency_1:0', 'GradientDescent/update_L1/dense/kernel/ApplyGradientDescent:0', 'GradientDescent:0', 'gradients/L1/dense/MatMul_grad/tuple/control_dependency:0', 'loss:0']\n"
     ]
    },
    {
     "ename": "ValueError",
     "evalue": "Cannot feed value of shape (500, 28, 28) for Tensor 'save/RestoreV2/shape_and_slices:0', which has shape '(6,)'",
     "output_type": "error",
     "traceback": [
      "\u001b[0;31m---------------------------------------------------------------------------\u001b[0m",
      "\u001b[0;31mValueError\u001b[0m                                Traceback (most recent call last)",
      "\u001b[0;32m<ipython-input-18-6739a9e88f5b>\u001b[0m in \u001b[0;36m<module>\u001b[0;34m()\u001b[0m\n\u001b[1;32m     16\u001b[0m                         feed_dict={op_names[0]: X_val[i*batch_size:(i+1)*batch_size],\n\u001b[1;32m     17\u001b[0m                                    \u001b[0mop_names\u001b[0m\u001b[0;34m[\u001b[0m\u001b[0;36m1\u001b[0m\u001b[0;34m]\u001b[0m\u001b[0;34m:\u001b[0m \u001b[0mY_val\u001b[0m\u001b[0;34m[\u001b[0m\u001b[0mi\u001b[0m\u001b[0;34m*\u001b[0m\u001b[0mbatch_size\u001b[0m\u001b[0;34m:\u001b[0m\u001b[0;34m(\u001b[0m\u001b[0mi\u001b[0m\u001b[0;34m+\u001b[0m\u001b[0;36m1\u001b[0m\u001b[0;34m)\u001b[0m\u001b[0;34m*\u001b[0m\u001b[0mbatch_size\u001b[0m\u001b[0;34m]\u001b[0m\u001b[0;34m,\u001b[0m\u001b[0;34m\u001b[0m\u001b[0m\n\u001b[0;32m---> 18\u001b[0;31m                                    op_names[2]: False})\n\u001b[0m\u001b[1;32m     19\u001b[0m         \u001b[0mloss\u001b[0m \u001b[0;34m+=\u001b[0m \u001b[0ml\u001b[0m\u001b[0;34m\u001b[0m\u001b[0m\n\u001b[1;32m     20\u001b[0m         \u001b[0maccuracy\u001b[0m \u001b[0;34m+=\u001b[0m \u001b[0ma\u001b[0m\u001b[0;34m\u001b[0m\u001b[0m\n",
      "\u001b[0;32m~/anaconda3/envs/ML/lib/python3.6/site-packages/tensorflow/python/client/session.py\u001b[0m in \u001b[0;36mrun\u001b[0;34m(self, fetches, feed_dict, options, run_metadata)\u001b[0m\n\u001b[1;32m    898\u001b[0m     \u001b[0;32mtry\u001b[0m\u001b[0;34m:\u001b[0m\u001b[0;34m\u001b[0m\u001b[0m\n\u001b[1;32m    899\u001b[0m       result = self._run(None, fetches, feed_dict, options_ptr,\n\u001b[0;32m--> 900\u001b[0;31m                          run_metadata_ptr)\n\u001b[0m\u001b[1;32m    901\u001b[0m       \u001b[0;32mif\u001b[0m \u001b[0mrun_metadata\u001b[0m\u001b[0;34m:\u001b[0m\u001b[0;34m\u001b[0m\u001b[0m\n\u001b[1;32m    902\u001b[0m         \u001b[0mproto_data\u001b[0m \u001b[0;34m=\u001b[0m \u001b[0mtf_session\u001b[0m\u001b[0;34m.\u001b[0m\u001b[0mTF_GetBuffer\u001b[0m\u001b[0;34m(\u001b[0m\u001b[0mrun_metadata_ptr\u001b[0m\u001b[0;34m)\u001b[0m\u001b[0;34m\u001b[0m\u001b[0m\n",
      "\u001b[0;32m~/anaconda3/envs/ML/lib/python3.6/site-packages/tensorflow/python/client/session.py\u001b[0m in \u001b[0;36m_run\u001b[0;34m(self, handle, fetches, feed_dict, options, run_metadata)\u001b[0m\n\u001b[1;32m   1109\u001b[0m                              \u001b[0;34m'which has shape %r'\u001b[0m \u001b[0;34m%\u001b[0m\u001b[0;34m\u001b[0m\u001b[0m\n\u001b[1;32m   1110\u001b[0m                              (np_val.shape, subfeed_t.name,\n\u001b[0;32m-> 1111\u001b[0;31m                               str(subfeed_t.get_shape())))\n\u001b[0m\u001b[1;32m   1112\u001b[0m           \u001b[0;32mif\u001b[0m \u001b[0;32mnot\u001b[0m \u001b[0mself\u001b[0m\u001b[0;34m.\u001b[0m\u001b[0mgraph\u001b[0m\u001b[0;34m.\u001b[0m\u001b[0mis_feedable\u001b[0m\u001b[0;34m(\u001b[0m\u001b[0msubfeed_t\u001b[0m\u001b[0;34m)\u001b[0m\u001b[0;34m:\u001b[0m\u001b[0;34m\u001b[0m\u001b[0m\n\u001b[1;32m   1113\u001b[0m             \u001b[0;32mraise\u001b[0m \u001b[0mValueError\u001b[0m\u001b[0;34m(\u001b[0m\u001b[0;34m'Tensor %s may not be fed.'\u001b[0m \u001b[0;34m%\u001b[0m \u001b[0msubfeed_t\u001b[0m\u001b[0;34m)\u001b[0m\u001b[0;34m\u001b[0m\u001b[0m\n",
      "\u001b[0;31mValueError\u001b[0m: Cannot feed value of shape (500, 28, 28) for Tensor 'save/RestoreV2/shape_and_slices:0', which has shape '(6,)'"
     ]
    }
   ],
   "source": [
    "# Clear old variables\n",
    "tf.reset_default_graph()  \n",
    "\n",
    "with tf.Session(config=conf) as sess:\n",
    "    #Restore from MetaGraph\n",
    "    saver = tf.train.import_meta_graph('./model_checkpoints/model_final.meta')\n",
    "    saver.restore(sess, \"./model_checkpoints/model_final\")\n",
    "\n",
    "    op_names = [op.name+\":0\" for op in tf.get_default_graph().get_operations()]     \n",
    "    print(op_names)\n",
    "    \n",
    "    batch_size = 500\n",
    "    loss, accuracy = 0.0, 0.0\n",
    "    for i in range(int(X_val.shape[0] / batch_size)):\n",
    "        l, a = sess.run([op_names[103], op_names[172]],\n",
    "                        feed_dict={op_names[0]: X_val[i*batch_size:(i+1)*batch_size],\n",
    "                                   op_names[1]: Y_val[i*batch_size:(i+1)*batch_size],\n",
    "                                   op_names[2]: False})\n",
    "        loss += l\n",
    "        accuracy += a\n",
    "    print(\"(Loss, Accuracy) on Test Dataset (%.4f, %.2f)\" % (loss / (X_val.shape[0] / batch_size), accuracy / (X_val.shape[0] / batch_size)))"
   ]
  },
  {
   "cell_type": "code",
   "execution_count": null,
   "metadata": {},
   "outputs": [],
   "source": []
  }
 ],
 "metadata": {
  "kernelspec": {
   "display_name": "Python 3",
   "language": "python",
   "name": "python3"
  },
  "language_info": {
   "codemirror_mode": {
    "name": "ipython",
    "version": 3
   },
   "file_extension": ".py",
   "mimetype": "text/x-python",
   "name": "python",
   "nbconvert_exporter": "python",
   "pygments_lexer": "ipython3",
   "version": "3.6.4"
  }
 },
 "nbformat": 4,
 "nbformat_minor": 1
}
