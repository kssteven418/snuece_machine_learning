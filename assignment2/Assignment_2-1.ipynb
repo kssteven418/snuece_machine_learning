{
 "cells": [
  {
   "cell_type": "markdown",
   "metadata": {},
   "source": [
    "# M2608.001300 Machine Learning <br> Assignment #2-1 Linear regression\n",
    "\n",
    "Copyright (C) Data Science and Artificial Intelligence Laboratory, Seoul National University. This material is for educational uses only. Some contents are based on the material provided by other paper/book authors and may be copyrighted by them. Written by Heonseok Ha, March 2018\n",
    "\n",
    "**Note**: certain details are missing or ambiguous on purpose, in order to test your knowledge on the related materials. However, if you really feel that something essential is missing and cannot proceed to the next step, then contact the teaching staff with clear description of your problem.\n",
    "\n",
    "### Submitting your work:\n",
    "<font color=red>**DO NOT clear the final outputs**</font> so that TAs can grade both your code and results.  \n",
    "Once you have done **all parts**, run the *CollectSubmission.sh* script with your **student_id** as input argument. <br>\n",
    "This will produce a zipped file called *[student_id].zip*. Please submit this file on ETL. &nbsp;&nbsp; (Usage: ./*CollectSubmission.sh* &nbsp; student_id)"
   ]
  },
  {
   "cell_type": "markdown",
   "metadata": {},
   "source": [
    "## Load dataset\n",
    "You can find this dataset on  **3.linear_class_regress.pdf** slide **51** <br>"
   ]
  },
  {
   "cell_type": "code",
   "execution_count": 3,
   "metadata": {},
   "outputs": [
    {
     "name": "stdout",
     "output_type": "stream",
     "text": [
      "data: (20, 2)\n",
      "X: (20, 1)\n",
      "y: (20, 1)\n"
     ]
    }
   ],
   "source": [
    "import numpy as np\n",
    "from sklearn.metrics import mean_squared_error\n",
    "\n",
    "data = np.loadtxt('data.csv', delimiter=',')\n",
    "print('data: ' + str(data.shape))\n",
    "#print(data)\n",
    "\n",
    "X = np.expand_dims(data[:,0], axis=1)\n",
    "print('X: ' + str(X.shape))\n",
    "#print(X)\n",
    "\n",
    "y = np.expand_dims(data[:,1], axis=1)\n",
    "print('y: '+ str(y.shape))\n",
    "#print(y)"
   ]
  },
  {
   "cell_type": "markdown",
   "metadata": {},
   "source": [
    "## Linear regression with sklearn\n",
    "Use **linear_model** from sklearn"
   ]
  },
  {
   "cell_type": "code",
   "execution_count": 4,
   "metadata": {},
   "outputs": [
    {
     "name": "stdout",
     "output_type": "stream",
     "text": [
      "SK Parameters:  [74.28331424] [14.94747973]\n",
      "SK MSE:  1.0624908437610157\n"
     ]
    },
    {
     "data": {
      "image/png": "[encoded data removed]",
      "text/plain": [
       "<matplotlib.figure.Figure at 0x7f53c333ba58>"
      ]
     },
     "metadata": {},
     "output_type": "display_data"
    }
   ],
   "source": [
    "from sklearn import linear_model\n",
    "import matplotlib.pyplot as plt\n",
    "%matplotlib inline\n",
    "\n",
    "sk_lin_regr = linear_model.LinearRegression()\n",
    "\n",
    "sk_lin_regr.fit(X, y)\n",
    "print('SK Parameters: ', sk_lin_regr.intercept_, np.squeeze(sk_lin_regr.coef_, axis=0))\n",
    "\n",
    "y_pred = sk_lin_regr.predict(X)\n",
    "#print(y_pred)\n",
    "print('SK MSE: ', mean_squared_error(y, y_pred) )\n",
    "\n",
    "# Plot outputs\n",
    "plt.scatter(X, y,  color='black')\n",
    "plt.plot(X, y_pred, color='blue', linewidth=3)\n",
    "\n",
    "plt.xticks(())\n",
    "plt.yticks(())\n",
    "\n",
    "plt.show()"
   ]
  },
  {
   "cell_type": "markdown",
   "metadata": {},
   "source": [
    "---\n",
    "### <font color=blue>[Problem #1]</font> (30 points)\n",
    "\n",
    "## 1-1. Linear regression without sklearn\n",
    "1) Complete the following class definition.  \n",
    "2) You can write your code only within the marked with comments.\n",
    "\n",
    "You can use **inv** from numpy.linalg"
   ]
  },
  {
   "cell_type": "code",
   "execution_count": 15,
   "metadata": {},
   "outputs": [],
   "source": [
    "from numpy.linalg import inv\n",
    "\n",
    "class Linear_regression():\n",
    "    \n",
    "    def fit(self, X, y):\n",
    "        \"\"\"\n",
    "        ↑↑↑\n",
    "        self.params = ...\n",
    "        ↓↓↓\n",
    "        \"\"\"\n",
    "        \n",
    "        pseudo_inv = np.matmul(inv(np.matmul(X.T, X)), X.T)\n",
    "        self.params = np.matmul(pseudo_inv, y)\n",
    "\n",
    "    def predict(self, X):\n",
    "        return  X @ self.params\n",
    "    \n",
    "    def get_weight(self):\n",
    "        return np.squeeze(self.params[1:], axis=1)\n",
    "\n",
    "    def get_bias(self):\n",
    "        return self.params[0]"
   ]
  },
  {
   "cell_type": "markdown",
   "metadata": {},
   "source": [
    "## Linear regression without sklearn\n",
    "Extend X like **3.linear_class_regress.pdf** slide **52**\n"
   ]
  },
  {
   "cell_type": "code",
   "execution_count": 16,
   "metadata": {},
   "outputs": [
    {
     "name": "stdout",
     "output_type": "stream",
     "text": [
      "X_extneded:  (20, 2)\n",
      "My Parameters:  [74.28331424] [14.94747973]\n",
      "My MSE:  1.0624908437610197\n"
     ]
    }
   ],
   "source": [
    "\"\"\"\n",
    "↑↑↑\n",
    "X_extended = ...\n",
    "↓↓↓\n",
    "\"\"\"\n",
    "N = X.shape[0]\n",
    "X_extended = np.c_[ np.ones(N), X ]\n",
    "print('X_extneded: ', str(X_extended.shape))\n",
    "\n",
    "my_lin_regr = Linear_regression()\n",
    "\n",
    "my_lin_regr.fit(X_extended, y)\n",
    "print('My Parameters: ', my_lin_regr.get_bias(), my_lin_regr.get_weight())\n",
    "\n",
    "y_pred = my_lin_regr.predict(X_extended)\n",
    "print('My MSE: ', mean_squared_error(y, y_pred) )"
   ]
  },
  {
   "cell_type": "markdown",
   "metadata": {},
   "source": [
    "#### <font color=blue>[Problem #1-1]</font> (10+10 points)  \n",
    "1) (10pt) Implementing **fit** of Linear_regression class <br>\n",
    "2) (10pt) Extending **X**"
   ]
  },
  {
   "cell_type": "markdown",
   "metadata": {},
   "source": [
    "## 1-2. Linear regression on synthetic dataset\n",
    "**Given information** <br>\n",
    "N : number of data <br>\n",
    "W : parameters [bias, weights] <br>\n",
    "\n",
    "** Generate a synthetic dataset using N and W** <br>\n",
    "X : [N, len(W)-1] <br>\n",
    "y : You should add **noise** from normal distribution (0,1) <br>"
   ]
  },
  {
   "cell_type": "code",
   "execution_count": 28,
   "metadata": {},
   "outputs": [
    {
     "name": "stdout",
     "output_type": "stream",
     "text": [
      "\n",
      "X: (100, 2)\n",
      "X_extended: (100, 3)\n",
      "y: (100, 1)\n"
     ]
    }
   ],
   "source": [
    "N = 100\n",
    "\n",
    "W = [35, -5.9, 2.1]\n",
    "\n",
    "\"\"\"\n",
    "↑↑↑\n",
    "X = ...\n",
    "X_extneded = \n",
    "\n",
    "y = \n",
    "↓↓↓\n",
    "\"\"\"\n",
    "X = []\n",
    "X_extended = []\n",
    "y = []\n",
    "\n",
    "for i in range(N):\n",
    "    \n",
    "    # inputs on integer grid [0,10]*[0,10]\n",
    "    x_ = i%10\n",
    "    y_ = i/10\n",
    "    \n",
    "    # f without error\n",
    "    f = np.dot([1, x_, y_], W)\n",
    "    \n",
    "    #add normal dist. error\n",
    "    f = f+np.random.normal(loc=0.0, scale=1.0)\n",
    "    \n",
    "    X.append([x_, y_])\n",
    "    X_extended.append([1, x_, y_])\n",
    "    y.append([f])\n",
    "\n",
    "X = np.array(X)\n",
    "X_extended = np.array(X_extended)\n",
    "y = np.array(y)\n",
    "    \n",
    "print()\n",
    "\n",
    "print('X: ' + str(X.shape))\n",
    "print('X_extended: ' + str(X_extended.shape))\n",
    "print('y: '+ str(y.shape))"
   ]
  },
  {
   "cell_type": "markdown",
   "metadata": {},
   "source": [
    "## Test synthetic dataset\n",
    "**X** for sk_lin_regr <br>\n",
    "**X_extended** for my_lin_regr"
   ]
  },
  {
   "cell_type": "code",
   "execution_count": 29,
   "metadata": {},
   "outputs": [
    {
     "name": "stdout",
     "output_type": "stream",
     "text": [
      "SK Parameters:  [34.5278612] [-5.82723635  2.09513846]\n",
      "My Parameters:  [34.5278612] [-5.82723635  2.09513846]\n",
      "SK_MSE:  0.9267536103922643\n",
      "My_MSE:  0.9267536103922659\n"
     ]
    }
   ],
   "source": [
    "sk_lin_regr = linear_model.LinearRegression()\n",
    "sk_lin_regr.fit(X, y)\n",
    "\n",
    "my_lin_regr = Linear_regression()\n",
    "my_lin_regr.fit(X_extended, y)\n",
    "\n",
    "print('SK Parameters: ', sk_lin_regr.intercept_, np.squeeze(sk_lin_regr.coef_, axis=0))\n",
    "print('My Parameters: ', my_lin_regr.get_bias(), my_lin_regr.get_weight())\n",
    "\n",
    "sk_y_pred = sk_lin_regr.predict(X)\n",
    "my_y_pred = my_lin_regr.predict(X_extended)\n",
    "\n",
    "print('SK_MSE: ', mean_squared_error(y, sk_y_pred))\n",
    "print('My_MSE: ', mean_squared_error(y, my_y_pred))"
   ]
  },
  {
   "cell_type": "markdown",
   "metadata": {},
   "source": [
    "#### <font color=blue>[Problem #1-2]</font> (10 points)  \n",
    "1) (10pt) Data generation <br>\n"
   ]
  }
 ],
 "metadata": {
  "kernelspec": {
   "display_name": "Python 3",
   "language": "python",
   "name": "python3"
  },
  "language_info": {
   "codemirror_mode": {
    "name": "ipython",
    "version": 3
   },
   "file_extension": ".py",
   "mimetype": "text/x-python",
   "name": "python",
   "nbconvert_exporter": "python",
   "pygments_lexer": "ipython3",
   "version": "3.6.4"
  }
 },
 "nbformat": 4,
 "nbformat_minor": 2
}
