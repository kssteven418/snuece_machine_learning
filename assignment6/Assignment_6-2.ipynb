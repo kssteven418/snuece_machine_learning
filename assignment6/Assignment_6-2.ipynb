{
 "cells": [
  {
   "cell_type": "markdown",
   "metadata": {},
   "source": [
    "# M2608.001300 Machine Learning <br> Assignment #6-2 Apply HMM to bitcoin\n",
    "\n",
    "Copyright (C) Data Science Laboratory, Seoul National University. This material is for educational uses only. Some contents are based on the material provided by other paper/book authors and may be copyrighted by them. Written by Hyemi Jang, May 2018\n",
    "\n",
    "**Note**: certain details are missing or ambiguous on purpose, in order to test your knowledge on the related materials. However, if you really feel that something essential is missing and cannot proceed to the next step, then contact the teaching staff with clear description of your problem.\n",
    "\n",
    "### Submitting your work:\n",
    "<font color=red>**DO NOT clear the final outputs**</font> so that TAs can grade both your code and results.  \n",
    "Once you have done **all parts**, run the *CollectSubmission.sh* script with your **student_id** as input argument. <br>\n",
    "This will produce a zipped file called *[student_id].zip*. Please submit this file on ETL. &nbsp;&nbsp; (Usage: ./*CollectSubmission.sh* &nbsp; student_id)"
   ]
  },
  {
   "cell_type": "markdown",
   "metadata": {},
   "source": [
    "## Bitcoin data\n",
    "- https://www.kaggle.com/mczielinski/bitcoin-historical-data"
   ]
  },
  {
   "cell_type": "code",
   "execution_count": 1,
   "metadata": {},
   "outputs": [
    {
     "name": "stdout",
     "output_type": "stream",
     "text": [
      "bitflyerJPY_1-min_data_2017-07-04_to_2018-01-08.csv\n",
      "bitstampUSD_1-min_data_2012-01-01_to_2018-01-08.csv\n",
      "coinbaseUSD_1-min_data_2014-12-01_to_2018-01-08.csv\n",
      "coincheckJPY_1-min_data_2014-10-31_to_2018-01-08.csv\n",
      "sample.csv\n",
      "\n"
     ]
    }
   ],
   "source": [
    "import numpy as np \n",
    "import pandas as pd\n",
    "\n",
    "from subprocess import check_output\n",
    "print(check_output([\"ls\", \"./data\"]).decode(\"utf8\"))"
   ]
  },
  {
   "cell_type": "code",
   "execution_count": 2,
   "metadata": {},
   "outputs": [
    {
     "data": {
      "text/html": [
       "<div>\n",
       "<style scoped>\n",
       "    .dataframe tbody tr th:only-of-type {\n",
       "        vertical-align: middle;\n",
       "    }\n",
       "\n",
       "    .dataframe tbody tr th {\n",
       "        vertical-align: top;\n",
       "    }\n",
       "\n",
       "    .dataframe thead th {\n",
       "        text-align: right;\n",
       "    }\n",
       "</style>\n",
       "<table border=\"1\" class=\"dataframe\">\n",
       "  <thead>\n",
       "    <tr style=\"text-align: right;\">\n",
       "      <th></th>\n",
       "      <th>Timestamp</th>\n",
       "      <th>Open</th>\n",
       "      <th>High</th>\n",
       "      <th>Low</th>\n",
       "      <th>Close</th>\n",
       "      <th>Volume_(BTC)</th>\n",
       "      <th>Volume_(Currency)</th>\n",
       "      <th>Weighted_Price</th>\n",
       "      <th>State</th>\n",
       "    </tr>\n",
       "  </thead>\n",
       "  <tbody>\n",
       "    <tr>\n",
       "      <th>0</th>\n",
       "      <td>2017-07-04 04:01:00</td>\n",
       "      <td>296127</td>\n",
       "      <td>296558</td>\n",
       "      <td>296016</td>\n",
       "      <td>296540</td>\n",
       "      <td>1.158600</td>\n",
       "      <td>3.432441e+05</td>\n",
       "      <td>296257.6717</td>\n",
       "      <td>True</td>\n",
       "    </tr>\n",
       "    <tr>\n",
       "      <th>1</th>\n",
       "      <td>2017-07-04 04:02:00</td>\n",
       "      <td>296539</td>\n",
       "      <td>296769</td>\n",
       "      <td>296060</td>\n",
       "      <td>296679</td>\n",
       "      <td>11.115510</td>\n",
       "      <td>3.295332e+06</td>\n",
       "      <td>296462.5137</td>\n",
       "      <td>False</td>\n",
       "    </tr>\n",
       "    <tr>\n",
       "      <th>2</th>\n",
       "      <td>2017-07-04 04:03:00</td>\n",
       "      <td>296060</td>\n",
       "      <td>296090</td>\n",
       "      <td>296060</td>\n",
       "      <td>296060</td>\n",
       "      <td>5.527494</td>\n",
       "      <td>1.636491e+06</td>\n",
       "      <td>296063.8362</td>\n",
       "      <td>True</td>\n",
       "    </tr>\n",
       "    <tr>\n",
       "      <th>3</th>\n",
       "      <td>2017-07-04 04:04:00</td>\n",
       "      <td>296060</td>\n",
       "      <td>296260</td>\n",
       "      <td>296015</td>\n",
       "      <td>296015</td>\n",
       "      <td>8.414064</td>\n",
       "      <td>2.491620e+06</td>\n",
       "      <td>296125.6678</td>\n",
       "      <td>True</td>\n",
       "    </tr>\n",
       "    <tr>\n",
       "      <th>4</th>\n",
       "      <td>2017-07-04 04:05:00</td>\n",
       "      <td>296361</td>\n",
       "      <td>296540</td>\n",
       "      <td>296155</td>\n",
       "      <td>296155</td>\n",
       "      <td>3.993010</td>\n",
       "      <td>1.183292e+06</td>\n",
       "      <td>296340.7857</td>\n",
       "      <td>False</td>\n",
       "    </tr>\n",
       "  </tbody>\n",
       "</table>\n",
       "</div>"
      ],
      "text/plain": [
       "             Timestamp    Open    High     Low   Close  Volume_(BTC)  \\\n",
       "0  2017-07-04 04:01:00  296127  296558  296016  296540      1.158600   \n",
       "1  2017-07-04 04:02:00  296539  296769  296060  296679     11.115510   \n",
       "2  2017-07-04 04:03:00  296060  296090  296060  296060      5.527494   \n",
       "3  2017-07-04 04:04:00  296060  296260  296015  296015      8.414064   \n",
       "4  2017-07-04 04:05:00  296361  296540  296155  296155      3.993010   \n",
       "\n",
       "   Volume_(Currency)  Weighted_Price  State  \n",
       "0       3.432441e+05     296257.6717   True  \n",
       "1       3.295332e+06     296462.5137  False  \n",
       "2       1.636491e+06     296063.8362   True  \n",
       "3       2.491620e+06     296125.6678   True  \n",
       "4       1.183292e+06     296340.7857  False  "
      ]
     },
     "execution_count": 2,
     "metadata": {},
     "output_type": "execute_result"
    }
   ],
   "source": [
    "import matplotlib.pyplot as plt\n",
    "import seaborn as sns\n",
    "bitJPY = pd.read_csv('./data/bitflyerJPY_1-min_data_2017-07-04_to_2018-01-08.csv')\n",
    "bitJPY['Timestamp'] = bitJPY['Timestamp'].values.astype(int)\n",
    "\n",
    "import datetime\n",
    "bitJPY['Timestamp'] = [\n",
    "    datetime.datetime.fromtimestamp(\n",
    "    x\n",
    ").strftime('%Y-%m-%d %H:%M:%S')\n",
    "    for x in bitJPY['Timestamp'].values\n",
    "]\n",
    "bitJPY.head()"
   ]
  },
  {
   "cell_type": "code",
   "execution_count": 3,
   "metadata": {},
   "outputs": [
    {
     "name": "stdout",
     "output_type": "stream",
     "text": [
      "Populating the interactive namespace from numpy and matplotlib\n"
     ]
    },
    {
     "data": {
      "text/plain": [
       "<matplotlib.axes._subplots.AxesSubplot at 0x7f14de27ff60>"
      ]
     },
     "execution_count": 3,
     "metadata": {},
     "output_type": "execute_result"
    },
    {
     "data": {
      "image/png": "[encoded data removed]",
      "text/plain": [
       "<matplotlib.figure.Figure at 0x7f14de2764e0>"
      ]
     },
     "metadata": {},
     "output_type": "display_data"
    }
   ],
   "source": [
    "%matplotlib inline\n",
    "%pylab inline\n",
    "pylab.rcParams['figure.figsize'] = (15, 9)  \n",
    "bitJPY[\"Weighted_Price\"].plot(grid = True)"
   ]
  },
  {
   "cell_type": "markdown",
   "metadata": {},
   "source": [
    "## Make your model that predict future bitcoin price"
   ]
  },
  {
   "cell_type": "code",
   "execution_count": 4,
   "metadata": {},
   "outputs": [
    {
     "name": "stdout",
     "output_type": "stream",
     "text": [
      "(266775,) (266775,)\n"
     ]
    }
   ],
   "source": [
    "data = bitJPY['Weighted_Price'].values\n",
    "label = bitJPY['State'].values.astype(int)\n",
    "print(data.shape, label.shape)"
   ]
  },
  {
   "cell_type": "code",
   "execution_count": 5,
   "metadata": {},
   "outputs": [],
   "source": [
    "def test(model, X, Z):\n",
    "    Z_hat = model.decode(X, lengths=(seq_len,))[1] ## you can change this line following your model\n",
    "    \n",
    "    plt.subplot(211)\n",
    "    plt.plot(X, lw=5)\n",
    "    X[Z_hat == 0] = np.nan\n",
    "    plt.plot(X, 'r-', lw=5)\n",
    "    plt.title(\"X cumulated\")\n",
    "    plt.subplot(212)\n",
    "    plt.plot(Z, 'bo-')\n",
    "    plt.plot(Z_hat, 'ro-')\n",
    "    plt.title(\"discrete state\")\n",
    "    plt.tight_layout()\n",
    "    plt.show()\n",
    "    \n",
    "    print('Accuracy : ' ,(Z_hat == Z).sum() / Z.shape[0] * 100 )  "
   ]
  },
  {
   "cell_type": "code",
   "execution_count": null,
   "metadata": {},
   "outputs": [],
   "source": [
    "\"\"\"\n",
    "Implement your model here.\n",
    "You can import any library and use it.\n",
    "Also, you can implement from scratch.\n",
    "We only check the accuracy of your model. \n",
    "\"\"\"\n",
    "\n",
    "from hmmlearn.hmm import GaussianHMM\n",
    "\n",
    "model = "
   ]
  },
  {
   "cell_type": "markdown",
   "metadata": {},
   "source": [
    "## Explain your model\n",
    "Explain the details of your model. "
   ]
  },
  {
   "cell_type": "code",
   "execution_count": null,
   "metadata": {},
   "outputs": [],
   "source": [
    "test(model, X[:100], Z[:100])"
   ]
  },
  {
   "cell_type": "code",
   "execution_count": null,
   "metadata": {},
   "outputs": [],
   "source": []
  }
 ],
 "metadata": {
  "kernelspec": {
   "display_name": "Python [conda env:ML]",
   "language": "python",
   "name": "conda-env-ML-py"
  },
  "language_info": {
   "codemirror_mode": {
    "name": "ipython",
    "version": 3
   },
   "file_extension": ".py",
   "mimetype": "text/x-python",
   "name": "python",
   "nbconvert_exporter": "python",
   "pygments_lexer": "ipython3",
   "version": "3.6.4"
  }
 },
 "nbformat": 4,
 "nbformat_minor": 2
}
